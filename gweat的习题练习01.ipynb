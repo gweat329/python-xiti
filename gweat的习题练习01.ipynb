{
 "cells": [
  {
   "cell_type": "markdown",
   "metadata": {},
   "source": [
    "# range(0)=[0,0)\n",
    "   \n",
    "      含义是大括号包含 0 ，小括号内不包含 0 ，那么意思就是range(0)是一个空集，不会打印出来。"
   ]
  },
  {
   "cell_type": "code",
   "execution_count": 19,
   "metadata": {},
   "outputs": [
    {
     "name": "stdout",
     "output_type": "stream",
     "text": [
      "* * * * * \n",
      "* * * * * \n",
      "* * * * * \n",
      "* * * * * \n"
     ]
    }
   ],
   "source": [
    "# 打印4 X 5序列的星号案例\n",
    "for i in range(0,4):\n",
    "    for j in range(0,5):\n",
    "        print(\"* \",end=\"\")\n",
    "    print()"
   ]
  },
  {
   "cell_type": "code",
   "execution_count": 42,
   "metadata": {},
   "outputs": [
    {
     "name": "stdout",
     "output_type": "stream",
     "text": [
      "1 \n",
      "2 4 \n",
      "3 6 9 \n",
      "4 8 12 16 \n",
      "5 10 15 20 25 \n",
      "6 12 18 24 30 36 \n",
      "7 14 21 28 35 42 49 \n",
      "8 16 24 32 40 48 56 64 \n",
      "9 18 27 36 45 54 63 72 81 \n"
     ]
    }
   ],
   "source": [
    "# 打印九九乘法表案例\n",
    "for a in range(1,10):\n",
    "    for j in range(1,a+1):\n",
    "        print(a*j,end=\" \")\n",
    "    print()\n",
    "    "
   ]
  },
  {
   "cell_type": "code",
   "execution_count": 9,
   "metadata": {
    "scrolled": true
   },
   "outputs": [
    {
     "name": "stdout",
     "output_type": "stream",
     "text": [
      "* * * * * \n",
      "*       * \n",
      "*       * \n",
      "* * * * * \n"
     ]
    }
   ],
   "source": [
    "# 打印一下图形在输出上面\n",
    "\"\"\"\n",
    "* * * * *\n",
    "*       *\n",
    "*       *\n",
    "* * * * *\n",
    "\"\"\"\n",
    "for i in range(4):\n",
    "    if i == 0 or i ==3:\n",
    "        print(\"* \"*5)\n",
    "    if i == 1 or i ==2:\n",
    "        for j in range(5):\n",
    "            if j == 0 or j == 4:\n",
    "                print(\"* \",end=\"\")\n",
    "            else:\n",
    "                print(\"  \",end=\"\")\n",
    "        print()\n"
   ]
  },
  {
   "cell_type": "code",
   "execution_count": 20,
   "metadata": {
    "scrolled": true
   },
   "outputs": [
    {
     "name": "stdout",
     "output_type": "stream",
     "text": [
      "* \n",
      "* * \n",
      "* * * \n",
      "* * * * \n",
      "* * * * * \n"
     ]
    }
   ],
   "source": [
    "for i in range(5):\n",
    "    for j in range(i+1):\n",
    "        print(\"* \",end=\"\")\n",
    "    print()"
   ]
  },
  {
   "cell_type": "code",
   "execution_count": 140,
   "metadata": {
    "scrolled": true
   },
   "outputs": [
    {
     "name": "stdout",
     "output_type": "stream",
     "text": [
      "* \n",
      "* * \n",
      "*   * \n",
      "*     * \n",
      "* * * * * \n"
     ]
    }
   ],
   "source": [
    "\"\"\"\n",
    "# 打印空心三角形\n",
    "\n",
    "*\n",
    "* *\n",
    "*   *\n",
    "*     *\n",
    "* * * * *\n",
    "\"\"\"\n",
    "for i in range(5):\n",
    "    for j in range(i+1):\n",
    "        if i==4:\n",
    "            print(\"* \",end=\"\") \n",
    "            continue\n",
    "        if j==0 or j==i:\n",
    "            print(\"* \",end=\"\")\n",
    "        else:\n",
    "            print(\"  \",end=\"\")\n",
    "        \n",
    "    print()\n",
    "\n"
   ]
  },
  {
   "cell_type": "code",
   "execution_count": 1,
   "metadata": {},
   "outputs": [
    {
     "name": "stdout",
     "output_type": "stream",
     "text": [
      "0\n"
     ]
    }
   ],
   "source": [
    "i=2\n",
    "print(i%2)"
   ]
  },
  {
   "cell_type": "code",
   "execution_count": 23,
   "metadata": {},
   "outputs": [
    {
     "name": "stdout",
     "output_type": "stream",
     "text": [
      "* * * * * \n",
      "* * * * \n",
      "* * * \n",
      "* * \n",
      "* \n"
     ]
    }
   ],
   "source": [
    "# 打印倒立三角\n",
    "'''\n",
    "* * * * *\n",
    "* * * *\n",
    "* * *\n",
    "* *\n",
    "*\n",
    "'''\n",
    "for i in range(5):\n",
    "    for j in range(5-i): \n",
    "        print(\"* \",end=\"\")\n",
    "    print()\n"
   ]
  },
  {
   "cell_type": "code",
   "execution_count": 39,
   "metadata": {},
   "outputs": [
    {
     "name": "stdout",
     "output_type": "stream",
     "text": [
      "* * * * * \n",
      "*     * \n",
      "*   * \n",
      "* * \n",
      "* \n"
     ]
    }
   ],
   "source": [
    "# 打印倒立空三角\n",
    "'''\n",
    "* * * * *\n",
    "*     *\n",
    "*   *\n",
    "* *\n",
    "*\n",
    "'''\n",
    "for i in range(5):\n",
    "    for j in range(5-i):\n",
    "        if i==0:\n",
    "            print(\"* \",end=\"\")\n",
    "            continue\n",
    "        if j==0 or j==4-i:\n",
    "            print(\"* \",end=\"\")\n",
    "        else:\n",
    "            print(\"  \",end=\"\")\n",
    "    print()\n",
    "            "
   ]
  },
  {
   "cell_type": "code",
   "execution_count": 58,
   "metadata": {},
   "outputs": [
    {
     "name": "stdout",
     "output_type": "stream",
     "text": [
      "     * \n",
      "    * * \n",
      "   * * * \n",
      "  * * * * \n",
      " * * * * * \n"
     ]
    }
   ],
   "source": [
    "# 打印三角形，正三角形\n",
    "'''\n",
    "    *\n",
    "   * *\n",
    "  * * *\n",
    " * * * *\n",
    "* * * * *\n",
    "'''\n",
    "for i in range(5):\n",
    "    for j in range(5-i):\n",
    "        print(\" \",end=\"\")\n",
    "    for m in range(i+1):\n",
    "        print(\"* \",end=\"\")\n",
    "        \n",
    "\n",
    "    print()"
   ]
  },
  {
   "cell_type": "code",
   "execution_count": 1,
   "metadata": {},
   "outputs": [
    {
     "name": "stdout",
     "output_type": "stream",
     "text": [
      "     * \n",
      "    * * \n",
      "   *   * \n",
      "  *     * \n",
      " * * * * * \n"
     ]
    }
   ],
   "source": [
    "# 打印空心三角形，正三角形\n",
    "'''\n",
    "    *\n",
    "   * *\n",
    "  *   *\n",
    " *     *\n",
    "* * * * *\n",
    "'''\n",
    "for i in range(5):\n",
    "    for j in range(5-i):\n",
    "        print(\" \",end=\"\")\n",
    "    for m in range(i+1):\n",
    "        if i==4:\n",
    "            print(\"* \",end=\"\")\n",
    "            continue\n",
    "        if m==0 or m==i:\n",
    "            print(\"* \",end=\"\")\n",
    "        else:\n",
    "            print(\"  \",end=\"\")\n",
    "        \n",
    "\n",
    "    print()"
   ]
  },
  {
   "cell_type": "markdown",
   "metadata": {},
   "source": [
    "# 字符串的简单操作"
   ]
  },
  {
   "cell_type": "code",
   "execution_count": 6,
   "metadata": {},
   "outputs": [
    {
     "name": "stdout",
     "output_type": "stream",
     "text": [
      "i lovewangxiaojing\n",
      "i love wangxiaojing\n",
      "i love wang xiaojing\n"
     ]
    }
   ],
   "source": [
    "# 链接操作\n",
    "s1 = \"i love\"\n",
    "s2 = \"wangxiaojing\"\n",
    "\n",
    "s3 = s1 + s2\n",
    "print(s3)\n",
    "\n",
    "print(s1 + \" \" + s2)\n",
    "\n",
    "print(\"i love \" + \"wang xiaojing\")"
   ]
  },
  {
   "cell_type": "code",
   "execution_count": 8,
   "metadata": {},
   "outputs": [
    {
     "name": "stdout",
     "output_type": "stream",
     "text": [
      "i love wang xiaojingi love wang xiaojingi love wang xiaojingi love wang xiaojingi love wang xiaojingi love wang xiaojingi love wang xiaojingi love wang xiaojingi love wang xiaojingi love wang xiaojing\n"
     ]
    }
   ],
   "source": [
    "# 字符串的乘法\n",
    "\n",
    "s = \"i love wang xiaojing\"\n",
    "s2 = s * 10\n",
    "print(s2)"
   ]
  },
  {
   "cell_type": "code",
   "execution_count": 20,
   "metadata": {},
   "outputs": [
    {
     "name": "stdout",
     "output_type": "stream",
     "text": [
      "i\n",
      "g\n",
      "i\n",
      "3456\n",
      "123456789\n",
      "139929242087600\n",
      "139929242087600\n"
     ]
    },
    {
     "ename": "TypeError",
     "evalue": "'str' object does not support item assignment",
     "output_type": "error",
     "traceback": [
      "\u001b[0;31m---------------------------------------------------------------------------\u001b[0m",
      "\u001b[0;31mTypeError\u001b[0m                                 Traceback (most recent call last)",
      "\u001b[0;32m<ipython-input-20-fbb00c6334ca>\u001b[0m in \u001b[0;36m<module>\u001b[0;34m()\u001b[0m\n\u001b[1;32m     15\u001b[0m \u001b[0mprint\u001b[0m\u001b[0;34m(\u001b[0m\u001b[0mid\u001b[0m\u001b[0;34m(\u001b[0m\u001b[0ms\u001b[0m\u001b[0;34m[\u001b[0m\u001b[0;34m:\u001b[0m\u001b[0;34m]\u001b[0m\u001b[0;34m)\u001b[0m\u001b[0;34m)\u001b[0m  \u001b[0;31m# 按道理s[:]与s之间的id应该是不同的，但是python偷懒，直接把s[:]指向了s\u001b[0m\u001b[0;34m\u001b[0m\u001b[0m\n\u001b[1;32m     16\u001b[0m \u001b[0;31m# 不能直接对字符串下标元素赋值，否则会导致错误\u001b[0m\u001b[0;34m\u001b[0m\u001b[0;34m\u001b[0m\u001b[0m\n\u001b[0;32m---> 17\u001b[0;31m \u001b[0ms\u001b[0m\u001b[0;34m[\u001b[0m\u001b[0;36m1\u001b[0m\u001b[0;34m]\u001b[0m \u001b[0;34m=\u001b[0m \u001b[0;34m\"a\"\u001b[0m\u001b[0;34m\u001b[0m\u001b[0m\n\u001b[0m\u001b[1;32m     18\u001b[0m \u001b[0mprint\u001b[0m\u001b[0;34m(\u001b[0m\u001b[0ms\u001b[0m\u001b[0;34m)\u001b[0m\u001b[0;34m\u001b[0m\u001b[0m\n",
      "\u001b[0;31mTypeError\u001b[0m: 'str' object does not support item assignment"
     ]
    }
   ],
   "source": [
    "# 字符串当成列表\n",
    "\n",
    "s = \" i love wang xiaojing\"\n",
    "\n",
    "print(s[1])\n",
    "\n",
    "print(s[-1])\n",
    "print(s[1])\n",
    "\n",
    "s = \"123456789\"\n",
    "print(s[2:6])\n",
    "print(s[:])\n",
    "\n",
    "print(id(s))\n",
    "print(id(s[:]))  # 按道理s[:]与s之间的id应该是不同的，但是python偷懒，直接把s[:]指向了s\n",
    "# 不能直接对字符串下标元素赋值，否则会导致错误\n",
    "s[1] = \"a\"\n",
    "print(s)"
   ]
  },
  {
   "cell_type": "code",
   "execution_count": 1,
   "metadata": {
    "scrolled": true
   },
   "outputs": [
    {
     "name": "stdout",
     "output_type": "stream",
     "text": [
      "Help on class str in module builtins:\n",
      "\n",
      "class str(object)\n",
      " |  str(object='') -> str\n",
      " |  str(bytes_or_buffer[, encoding[, errors]]) -> str\n",
      " |  \n",
      " |  Create a new string object from the given object. If encoding or\n",
      " |  errors is specified, then the object must expose a data buffer\n",
      " |  that will be decoded using the given encoding and error handler.\n",
      " |  Otherwise, returns the result of object.__str__() (if defined)\n",
      " |  or repr(object).\n",
      " |  encoding defaults to sys.getdefaultencoding().\n",
      " |  errors defaults to 'strict'.\n",
      " |  \n",
      " |  Methods defined here:\n",
      " |  \n",
      " |  __add__(self, value, /)\n",
      " |      Return self+value.\n",
      " |  \n",
      " |  __contains__(self, key, /)\n",
      " |      Return key in self.\n",
      " |  \n",
      " |  __eq__(self, value, /)\n",
      " |      Return self==value.\n",
      " |  \n",
      " |  __format__(...)\n",
      " |      S.__format__(format_spec) -> str\n",
      " |      \n",
      " |      Return a formatted version of S as described by format_spec.\n",
      " |  \n",
      " |  __ge__(self, value, /)\n",
      " |      Return self>=value.\n",
      " |  \n",
      " |  __getattribute__(self, name, /)\n",
      " |      Return getattr(self, name).\n",
      " |  \n",
      " |  __getitem__(self, key, /)\n",
      " |      Return self[key].\n",
      " |  \n",
      " |  __getnewargs__(...)\n",
      " |  \n",
      " |  __gt__(self, value, /)\n",
      " |      Return self>value.\n",
      " |  \n",
      " |  __hash__(self, /)\n",
      " |      Return hash(self).\n",
      " |  \n",
      " |  __iter__(self, /)\n",
      " |      Implement iter(self).\n",
      " |  \n",
      " |  __le__(self, value, /)\n",
      " |      Return self<=value.\n",
      " |  \n",
      " |  __len__(self, /)\n",
      " |      Return len(self).\n",
      " |  \n",
      " |  __lt__(self, value, /)\n",
      " |      Return self<value.\n",
      " |  \n",
      " |  __mod__(self, value, /)\n",
      " |      Return self%value.\n",
      " |  \n",
      " |  __mul__(self, value, /)\n",
      " |      Return self*value.n\n",
      " |  \n",
      " |  __ne__(self, value, /)\n",
      " |      Return self!=value.\n",
      " |  \n",
      " |  __new__(*args, **kwargs) from builtins.type\n",
      " |      Create and return a new object.  See help(type) for accurate signature.\n",
      " |  \n",
      " |  __repr__(self, /)\n",
      " |      Return repr(self).\n",
      " |  \n",
      " |  __rmod__(self, value, /)\n",
      " |      Return value%self.\n",
      " |  \n",
      " |  __rmul__(self, value, /)\n",
      " |      Return self*value.\n",
      " |  \n",
      " |  __sizeof__(...)\n",
      " |      S.__sizeof__() -> size of S in memory, in bytes\n",
      " |  \n",
      " |  __str__(self, /)\n",
      " |      Return str(self).\n",
      " |  \n",
      " |  capitalize(...)\n",
      " |      S.capitalize() -> str\n",
      " |      \n",
      " |      Return a capitalized version of S, i.e. make the first character\n",
      " |      have upper case and the rest lower case.\n",
      " |  \n",
      " |  casefold(...)\n",
      " |      S.casefold() -> str\n",
      " |      \n",
      " |      Return a version of S suitable for caseless comparisons.\n",
      " |  \n",
      " |  center(...)\n",
      " |      S.center(width[, fillchar]) -> str\n",
      " |      \n",
      " |      Return S centered in a string of length width. Padding is\n",
      " |      done using the specified fill character (default is a space)\n",
      " |  \n",
      " |  count(...)\n",
      " |      S.count(sub[, start[, end]]) -> int\n",
      " |      \n",
      " |      Return the number of non-overlapping occurrences of substring sub in\n",
      " |      string S[start:end].  Optional arguments start and end are\n",
      " |      interpreted as in slice notation.\n",
      " |  \n",
      " |  encode(...)\n",
      " |      S.encode(encoding='utf-8', errors='strict') -> bytes\n",
      " |      \n",
      " |      Encode S using the codec registered for encoding. Default encoding\n",
      " |      is 'utf-8'. errors may be given to set a different error\n",
      " |      handling scheme. Default is 'strict' meaning that encoding errors raise\n",
      " |      a UnicodeEncodeError. Other possible values are 'ignore', 'replace' and\n",
      " |      'xmlcharrefreplace' as well as any other name registered with\n",
      " |      codecs.register_error that can handle UnicodeEncodeErrors.\n",
      " |  \n",
      " |  endswith(...)\n",
      " |      S.endswith(suffix[, start[, end]]) -> bool\n",
      " |      \n",
      " |      Return True if S ends with the specified suffix, False otherwise.\n",
      " |      With optional start, test S beginning at that position.\n",
      " |      With optional end, stop comparing S at that position.\n",
      " |      suffix can also be a tuple of strings to try.\n",
      " |  \n",
      " |  expandtabs(...)\n",
      " |      S.expandtabs(tabsize=8) -> str\n",
      " |      \n",
      " |      Return a copy of S where all tab characters are expanded using spaces.\n",
      " |      If tabsize is not given, a tab size of 8 characters is assumed.\n",
      " |  \n",
      " |  find(...)\n",
      " |      S.find(sub[, start[, end]]) -> int\n",
      " |      \n",
      " |      Return the lowest index in S where substring sub is found,\n",
      " |      such that sub is contained within S[start:end].  Optional\n",
      " |      arguments start and end are interpreted as in slice notation.\n",
      " |      \n",
      " |      Return -1 on failure.\n",
      " |  \n",
      " |  format(...)\n",
      " |      S.format(*args, **kwargs) -> str\n",
      " |      \n",
      " |      Return a formatted version of S, using substitutions from args and kwargs.\n",
      " |      The substitutions are identified by braces ('{' and '}').\n",
      " |  \n",
      " |  format_map(...)\n",
      " |      S.format_map(mapping) -> str\n",
      " |      \n",
      " |      Return a formatted version of S, using substitutions from mapping.\n",
      " |      The substitutions are identified by braces ('{' and '}').\n",
      " |  \n",
      " |  index(...)\n",
      " |      S.index(sub[, start[, end]]) -> int\n",
      " |      \n",
      " |      Return the lowest index in S where substring sub is found, \n",
      " |      such that sub is contained within S[start:end].  Optional\n",
      " |      arguments start and end are interpreted as in slice notation.\n",
      " |      \n",
      " |      Raises ValueError when the substring is not found.\n",
      " |  \n",
      " |  isalnum(...)\n",
      " |      S.isalnum() -> bool\n",
      " |      \n",
      " |      Return True if all characters in S are alphanumeric\n",
      " |      and there is at least one character in S, False otherwise.\n",
      " |  \n",
      " |  isalpha(...)\n",
      " |      S.isalpha() -> bool\n",
      " |      \n",
      " |      Return True if all characters in S are alphabetic\n",
      " |      and there is at least one character in S, False otherwise.\n",
      " |  \n",
      " |  isdecimal(...)\n",
      " |      S.isdecimal() -> bool\n",
      " |      \n",
      " |      Return True if there are only decimal characters in S,\n",
      " |      False otherwise.\n",
      " |  \n",
      " |  isdigit(...)\n",
      " |      S.isdigit() -> bool\n",
      " |      \n",
      " |      Return True if all characters in S are digits\n",
      " |      and there is at least one character in S, False otherwise.\n",
      " |  \n",
      " |  isidentifier(...)\n",
      " |      S.isidentifier() -> bool\n",
      " |      \n",
      " |      Return True if S is a valid identifier according\n",
      " |      to the language definition.\n",
      " |      \n",
      " |      Use keyword.iskeyword() to test for reserved identifiers\n",
      " |      such as \"def\" and \"class\".\n",
      " |  \n",
      " |  islower(...)\n",
      " |      S.islower() -> bool\n",
      " |      \n",
      " |      Return True if all cased characters in S are lowercase and there is\n",
      " |      at least one cased character in S, False otherwise.\n",
      " |  \n",
      " |  isnumeric(...)\n",
      " |      S.isnumeric() -> bool\n",
      " |      \n",
      " |      Return True if there are only numeric characters in S,\n",
      " |      False otherwise.\n",
      " |  \n",
      " |  isprintable(...)\n",
      " |      S.isprintable() -> bool\n",
      " |      \n",
      " |      Return True if all characters in S are considered\n",
      " |      printable in repr() or S is empty, False otherwise.\n",
      " |  \n",
      " |  isspace(...)\n",
      " |      S.isspace() -> bool\n",
      " |      \n",
      " |      Return True if all characters in S are whitespace\n",
      " |      and there is at least one character in S, False otherwise.\n",
      " |  \n",
      " |  istitle(...)\n",
      " |      S.istitle() -> bool\n",
      " |      \n",
      " |      Return True if S is a titlecased string and there is at least one\n",
      " |      character in S, i.e. upper- and titlecase characters may only\n",
      " |      follow uncased characters and lowercase characters only cased ones.\n",
      " |      Return False otherwise.\n",
      " |  \n",
      " |  isupper(...)\n",
      " |      S.isupper() -> bool\n",
      " |      \n",
      " |      Return True if all cased characters in S are uppercase and there is\n",
      " |      at least one cased character in S, False otherwise.\n",
      " |  \n",
      " |  join(...)\n",
      " |      S.join(iterable) -> str\n",
      " |      \n",
      " |      Return a string which is the concatenation of the strings in the\n",
      " |      iterable.  The separator between elements is S.\n",
      " |  \n",
      " |  ljust(...)\n",
      " |      S.ljust(width[, fillchar]) -> str\n",
      " |      \n",
      " |      Return S left-justified in a Unicode string of length width. Padding is\n",
      " |      done using the specified fill character (default is a space).\n",
      " |  \n",
      " |  lower(...)\n",
      " |      S.lower() -> str\n",
      " |      \n",
      " |      Return a copy of the string S converted to lowercase.\n",
      " |  \n",
      " |  lstrip(...)\n",
      " |      S.lstrip([chars]) -> str\n",
      " |      \n",
      " |      Return a copy of the string S with leading whitespace removed.\n",
      " |      If chars is given and not None, remove characters in chars instead.\n",
      " |  \n",
      " |  partition(...)\n",
      " |      S.partition(sep) -> (head, sep, tail)\n",
      " |      \n",
      " |      Search for the separator sep in S, and return the part before it,\n",
      " |      the separator itself, and the part after it.  If the separator is not\n",
      " |      found, return S and two empty strings.\n",
      " |  \n",
      " |  replace(...)\n",
      " |      S.replace(old, new[, count]) -> str\n",
      " |      \n",
      " |      Return a copy of S with all occurrences of substring\n",
      " |      old replaced by new.  If the optional argument count is\n",
      " |      given, only the first count occurrences are replaced.\n",
      " |  \n",
      " |  rfind(...)\n",
      " |      S.rfind(sub[, start[, end]]) -> int\n",
      " |      \n",
      " |      Return the highest index in S where substring sub is found,\n",
      " |      such that sub is contained within S[start:end].  Optional\n",
      " |      arguments start and end are interpreted as in slice notation.\n",
      " |      \n",
      " |      Return -1 on failure.\n",
      " |  \n",
      " |  rindex(...)\n",
      " |      S.rindex(sub[, start[, end]]) -> int\n",
      " |      \n",
      " |      Return the highest index in S where substring sub is found,\n",
      " |      such that sub is contained within S[start:end].  Optional\n",
      " |      arguments start and end are interpreted as in slice notation.\n",
      " |      \n",
      " |      Raises ValueError when the substring is not found.\n",
      " |  \n",
      " |  rjust(...)\n",
      " |      S.rjust(width[, fillchar]) -> str\n",
      " |      \n",
      " |      Return S right-justified in a string of length width. Padding is\n",
      " |      done using the specified fill character (default is a space).\n",
      " |  \n",
      " |  rpartition(...)\n",
      " |      S.rpartition(sep) -> (head, sep, tail)\n",
      " |      \n",
      " |      Search for the separator sep in S, starting at the end of S, and return\n",
      " |      the part before it, the separator itself, and the part after it.  If the\n",
      " |      separator is not found, return two empty strings and S.\n",
      " |  \n",
      " |  rsplit(...)\n",
      " |      S.rsplit(sep=None, maxsplit=-1) -> list of strings\n",
      " |      \n",
      " |      Return a list of the words in S, using sep as the\n",
      " |      delimiter string, starting at the end of the string and\n",
      " |      working to the front.  If maxsplit is given, at most maxsplit\n",
      " |      splits are done. If sep is not specified, any whitespace string\n",
      " |      is a separator.\n",
      " |  \n",
      " |  rstrip(...)\n",
      " |      S.rstrip([chars]) -> str\n",
      " |      \n",
      " |      Return a copy of the string S with trailing whitespace removed.\n",
      " |      If chars is given and not None, remove characters in chars instead.\n",
      " |  \n",
      " |  split(...)\n",
      " |      S.split(sep=None, maxsplit=-1) -> list of strings\n",
      " |      \n",
      " |      Return a list of the words in S, using sep as the\n",
      " |      delimiter string.  If maxsplit is given, at most maxsplit\n",
      " |      splits are done. If sep is not specified or is None, any\n",
      " |      whitespace string is a separator and empty strings are\n",
      " |      removed from the result.\n",
      " |  \n",
      " |  splitlines(...)\n",
      " |      S.splitlines([keepends]) -> list of strings\n",
      " |      \n",
      " |      Return a list of the lines in S, breaking at line boundaries.\n",
      " |      Line breaks are not included in the resulting list unless keepends\n",
      " |      is given and true.\n",
      " |  \n",
      " |  startswith(...)\n",
      " |      S.startswith(prefix[, start[, end]]) -> bool\n",
      " |      \n",
      " |      Return True if S starts with the specified prefix, False otherwise.\n",
      " |      With optional start, test S beginning at that position.\n",
      " |      With optional end, stop comparing S at that position.\n",
      " |      prefix can also be a tuple of strings to try.\n",
      " |  \n",
      " |  strip(...)\n",
      " |      S.strip([chars]) -> str\n",
      " |      \n",
      " |      Return a copy of the string S with leading and trailing\n",
      " |      whitespace removed.\n",
      " |      If chars is given and not None, remove characters in chars instead.\n",
      " |  \n",
      " |  swapcase(...)\n",
      " |      S.swapcase() -> str\n",
      " |      \n",
      " |      Return a copy of S with uppercase characters converted to lowercase\n",
      " |      and vice versa.\n",
      " |  \n",
      " |  title(...)\n",
      " |      S.title() -> str\n",
      " |      \n",
      " |      Return a titlecased version of S, i.e. words start with title case\n",
      " |      characters, all remaining cased characters have lower case.\n",
      " |  \n",
      " |  translate(...)\n",
      " |      S.translate(table) -> str\n",
      " |      \n",
      " |      Return a copy of the string S in which each character has been mapped\n",
      " |      through the given translation table. The table must implement\n",
      " |      lookup/indexing via __getitem__, for instance a dictionary or list,\n",
      " |      mapping Unicode ordinals to Unicode ordinals, strings, or None. If\n",
      " |      this operation raises LookupError, the character is left untouched.\n",
      " |      Characters mapped to None are deleted.\n",
      " |  \n",
      " |  upper(...)\n",
      " |      S.upper() -> str\n",
      " |      \n",
      " |      Return a copy of S converted to uppercase.\n",
      " |  \n",
      " |  zfill(...)\n",
      " |      S.zfill(width) -> str\n",
      " |      \n",
      " |      Pad a numeric string S with zeros on the left, to fill a field\n",
      " |      of the specified width. The string S is never truncated.\n",
      " |  \n",
      " |  ----------------------------------------------------------------------\n",
      " |  Static methods defined here:\n",
      " |  \n",
      " |  maketrans(x, y=None, z=None, /)\n",
      " |      Return a translation table usable for str.translate().\n",
      " |      \n",
      " |      If there is only one argument, it must be a dictionary mapping Unicode\n",
      " |      ordinals (integers) or characters to Unicode ordinals, strings or None.\n",
      " |      Character keys will be then converted to ordinals.\n",
      " |      If there are two arguments, they must be strings of equal length, and\n",
      " |      in the resulting dictionary, each character in x will be mapped to the\n",
      " |      character at the same position in y. If there is a third argument, it\n",
      " |      must be a string, whose characters will be mapped to None in the result.\n",
      "\n"
     ]
    }
   ],
   "source": [
    "help(str)"
   ]
  },
  {
   "cell_type": "code",
   "execution_count": 3,
   "metadata": {},
   "outputs": [
    {
     "name": "stdout",
     "output_type": "stream",
     "text": [
      "Wo shi zengzhen\n"
     ]
    }
   ],
   "source": [
    "# capitalize 首字母大写，其余小写，返回字符串\n",
    "\n",
    "a = \"WO shi ZengZhen\"\n",
    "print(a.capitalize())"
   ]
  },
  {
   "cell_type": "code",
   "execution_count": 5,
   "metadata": {},
   "outputs": [
    {
     "name": "stdout",
     "output_type": "stream",
     "text": [
      "Wo Shi Shuai Ge!\n"
     ]
    }
   ],
   "source": [
    "# title() 将每个单词的首字母变为大写，返回的是字符串\n",
    "a = \"wo shi shuai ge!\"\n",
    "print(a.title())"
   ]
  },
  {
   "cell_type": "code",
   "execution_count": 7,
   "metadata": {},
   "outputs": [
    {
     "name": "stdout",
     "output_type": "stream",
     "text": [
      "ZENGZHEN SHI GE DA MEINV\n"
     ]
    }
   ],
   "source": [
    "# upper() 将所有字母变为大写字母，返回字符串\n",
    "a = \"zengzhen shi ge da meinv\"\n",
    "print(a.upper())"
   ]
  },
  {
   "cell_type": "code",
   "execution_count": 9,
   "metadata": {},
   "outputs": [
    {
     "name": "stdout",
     "output_type": "stream",
     "text": [
      "zeng xiao zhen shi ge da mei nv\n"
     ]
    }
   ],
   "source": [
    "# lower() 将所有字母变为小写，返回字符串\n",
    "a = \"ZENG xiao ZHEn shi ge Da mEI nV\"\n",
    "print(a.lower())"
   ]
  },
  {
   "cell_type": "code",
   "execution_count": 11,
   "metadata": {},
   "outputs": [
    {
     "name": "stdout",
     "output_type": "stream",
     "text": [
      "zeng XIAO zheN SHI GE dA Mei Nv\n"
     ]
    }
   ],
   "source": [
    "# swapcase() 将字母的大小写互换，返回字符串\n",
    "a = \"ZENG xiao ZHEn shi ge Da mEI nV\"\n",
    "print(a.swapcase())"
   ]
  },
  {
   "cell_type": "code",
   "execution_count": 14,
   "metadata": {},
   "outputs": [
    {
     "name": "stdout",
     "output_type": "stream",
     "text": [
      "zengzhen tian sheng li zhi 啊 28\n"
     ]
    }
   ],
   "source": [
    "# len() 计算字符串长度，不属于字符串的内建函数\n",
    "# len统计长度是按照字符个数统计，包括空格符，一个汉字的长度为1个\n",
    "a = \"zengzhen tian sheng li zhi 啊\"\n",
    "print(a,len(a))"
   ]
  },
  {
   "cell_type": "code",
   "execution_count": 23,
   "metadata": {},
   "outputs": [
    {
     "name": "stdout",
     "output_type": "stream",
     "text": [
      "6\n",
      "2\n"
     ]
    }
   ],
   "source": [
    "# find() 查找指定字符串，找不到返回-1\n",
    "# index() 查找指定字符串，找不到报错\n",
    "a = 'gergesghserthfdghfdguhrythaeg'\n",
    "a1 = a.find('g',4)\n",
    "a2 = a.index('r',1)\n",
    "print(a1)\n",
    "print(a2)"
   ]
  },
  {
   "cell_type": "code",
   "execution_count": 25,
   "metadata": {},
   "outputs": [
    {
     "name": "stdout",
     "output_type": "stream",
     "text": [
      "6\n"
     ]
    }
   ],
   "source": [
    "# count() 计算字符串出现次数 返回整形\n",
    "a = 'gergesghserthfdghfdguhrythaeg'\n",
    "print(a.count('g'))\n"
   ]
  },
  {
   "cell_type": "code",
   "execution_count": 27,
   "metadata": {},
   "outputs": [
    {
     "name": "stdout",
     "output_type": "stream",
     "text": [
      "True\n",
      "False\n",
      "====================\n",
      "True\n",
      "False\n"
     ]
    }
   ],
   "source": [
    "# startswith() 是否以指定字母开头  返回布尔值\n",
    "# endswith() 是否以指定字母结束  返回布尔值\n",
    "a = 'zengzhen hen meili'\n",
    "print(a.startswith('z'))\n",
    "print(a.startswith('Z'))\n",
    "print('=' * 20)\n",
    "print(a.endswith('i'))\n",
    "print(a.endswith('I'))"
   ]
  },
  {
   "cell_type": "code",
   "execution_count": 30,
   "metadata": {},
   "outputs": [
    {
     "name": "stdout",
     "output_type": "stream",
     "text": [
      "True\n",
      "False\n"
     ]
    }
   ],
   "source": [
    "# isupper() 检测所有字母是否是大写字母   返回一个布尔值\n",
    "a = 'WO SHI DA GE'\n",
    "a1 = 'wo shi da ge'\n",
    "print(a.isupper())\n",
    "print(a1.isupper())"
   ]
  },
  {
   "cell_type": "code",
   "execution_count": 33,
   "metadata": {},
   "outputs": [
    {
     "name": "stdout",
     "output_type": "stream",
     "text": [
      "True\n",
      "False\n"
     ]
    }
   ],
   "source": [
    "# islower() 检测所有字母是否是小写字母  返回一个布尔值\n",
    "a = 'zengzhen shi ge meinv'\n",
    "a1 = 'ZENGZHEN sHI GE MEINV'\n",
    "print(a.islower())\n",
    "print(a1.islower())"
   ]
  },
  {
   "cell_type": "code",
   "execution_count": 36,
   "metadata": {},
   "outputs": [
    {
     "name": "stdout",
     "output_type": "stream",
     "text": [
      "False\n",
      "False\n",
      "True\n"
     ]
    }
   ],
   "source": [
    "# istitle() 检测每个单词首字母是大写\n",
    "a = 'zengzhen shi ge meinv'\n",
    "a1 = 'ZENGZHEN sHI GE MEINV'\n",
    "a2 = 'Zengzhen Shi Ge Meinv'\n",
    "print(a.istitle())\n",
    "print(a1.istitle())\n",
    "print(a2.istitle())"
   ]
  },
  {
   "cell_type": "code",
   "execution_count": 38,
   "metadata": {},
   "outputs": [
    {
     "name": "stdout",
     "output_type": "stream",
     "text": [
      "True\n",
      "False\n",
      "False\n"
     ]
    }
   ],
   "source": [
    "# isspace() 检测字符串是否是空字符串\n",
    "a = '    '\n",
    "a2 = 'wo shi    shuai  ge'\n",
    "a3 = ''  # 这个没有空字符，返回false\n",
    "print(a.isspace())\n",
    "print(a2.isspace())\n",
    "print(a3.isspace())"
   ]
  },
  {
   "cell_type": "code",
   "execution_count": 41,
   "metadata": {},
   "outputs": [
    {
     "name": "stdout",
     "output_type": "stream",
     "text": [
      "False\n",
      "True\n"
     ]
    }
   ],
   "source": [
    "# isalpha()检测字符串是否字母组成  返回布尔值\n",
    "# 空个为空字符串但不是字母\n",
    "# 说明：汉字在英文字符包裹中被当做字符处理\n",
    "a = 'wo 是 shuai ge'\n",
    "a2 = 'wo是shuaige'\n",
    "print(a.isalpha())\n",
    "print(a2.isalpha())"
   ]
  },
  {
   "cell_type": "code",
   "execution_count": 44,
   "metadata": {},
   "outputs": [
    {
     "name": "stdout",
     "output_type": "stream",
     "text": [
      "False\n",
      "True\n",
      "True\n"
     ]
    }
   ],
   "source": [
    "# isalnum()  检测字符串是否由字母加数字组成  返回布尔值\n",
    "a1 = 'wo shi shuai ge'\n",
    "a2 = '7788414'\n",
    "a3 = 'woshishuaige6666'\n",
    "a4 = ''\n",
    "print(a1.isalnum())\n",
    "print(a2.isalnum())\n",
    "print(a3.isalnum())"
   ]
  },
  {
   "cell_type": "code",
   "execution_count": 51,
   "metadata": {},
   "outputs": [
    {
     "name": "stdout",
     "output_type": "stream",
     "text": [
      "True\n",
      "True\n",
      "True\n"
     ]
    }
   ],
   "source": [
    "# isdigit()  检测字符串是否由数字组成digit:数字；decimal:小数；numaeric:数值的。\n",
    "# isdecimal()\n",
    "# isnumeric()\n",
    "# num = \"1\"  #unicode\n",
    "# num.isdigit()   # True\n",
    "# num.isdecimal() # True\n",
    "# num.isnumeric() # True\n",
    "\n",
    "# num = \"1\" # 全角\n",
    "# num.isdigit()   # True\n",
    "# num.isdecimal() # True\n",
    "# num.isnumeric() # True\n",
    "\n",
    "# num = b\"1\" # byte\n",
    "# num.isdigit()   # True\n",
    "# num.isdecimal() # AttributeError 'bytes' object has no attribute 'isdecimal'\n",
    "# num.isnumeric() # AttributeError 'bytes' object has no attribute 'isnumeric'\n",
    "\n",
    "# num = \"IV\" # 罗马数字\n",
    "# num.isdigit()   # True\n",
    "# num.isdecimal() # False\n",
    "# num.isnumeric() # True\n",
    "\n",
    "# num = \"四\" # 汉字\n",
    "# num.isdigit()   # False\n",
    "# num.isdecimal() # False\n",
    "# num.isnumeric() # True\n",
    "\n",
    "# ===================\n",
    "# isdigit()\n",
    "# True: Unicode数字，byte数字（单字节），全角数字（双字节），罗马数字\n",
    "# False: 汉字数字\n",
    "# Error: 无\n",
    "\n",
    "# isdecimal()\n",
    "# True: Unicode数字，，全角数字（双字节）\n",
    "# False: 罗马数字，汉字数字\n",
    "# Error: byte数字（单字节）\n",
    "\n",
    "# isnumeric()\n",
    "# True: Unicode数字，全角数字（双字节），罗马数字，汉字数字\n",
    "# False: 无\n",
    "# Error: byte数字（单字节\n",
    "a = '123'\n",
    "print(a.isdigit())\n",
    "print(a.isdecimal())\n",
    "print(a.isnumeric())"
   ]
  },
  {
   "cell_type": "code",
   "execution_count": 61,
   "metadata": {},
   "outputs": [
    {
     "name": "stdout",
     "output_type": "stream",
     "text": [
      "<class 'list'>\n",
      "['日照香炉生紫烟', '疑是银河落九天', '飞流直下三千尺']\n"
     ]
    }
   ],
   "source": [
    "# split() 用指定字符切割字符串　　返回由字符串组成的列表\n",
    "a = '日照香炉生紫烟*疑是银河落九天*飞流直下三千尺'\n",
    "print(type(a.split(\"*\")))\n",
    "ｐｒｉｎｔ(a.split(\"*\"))"
   ]
  },
  {
   "cell_type": "code",
   "execution_count": 62,
   "metadata": {
    "scrolled": true
   },
   "outputs": [
    {
     "name": "stdout",
     "output_type": "stream",
     "text": [
      "Help on method_descriptor:\n",
      "\n",
      "split(...)\n",
      "    S.split(sep=None, maxsplit=-1) -> list of strings\n",
      "    \n",
      "    Return a list of the words in S, using sep as the\n",
      "    delimiter string.  If maxsplit is given, at most maxsplit\n",
      "    splits are done. If sep is not specified or is None, any\n",
      "    whitespace string is a separator and empty strings are\n",
      "    removed from the result.\n",
      "\n"
     ]
    }
   ],
   "source": [
    "help(str.split)"
   ]
  },
  {
   "cell_type": "code",
   "execution_count": 66,
   "metadata": {},
   "outputs": [
    {
     "name": "stdout",
     "output_type": "stream",
     "text": [
      "['日照香炉生紫烟', '疑是银河', '落九天', '飞流直下三千尺']\n"
     ]
    }
   ],
   "source": [
    "# splitlines() 以换行对字符串进行切片　　返回一个含多个字符串的列表\n",
    "l = '日照香炉生紫烟\\r疑是银河\\r落九天\\r飞流直下三千尺'\n",
    "print(l.splitlines())"
   ]
  },
  {
   "cell_type": "code",
   "execution_count": 71,
   "metadata": {},
   "outputs": [
    {
     "name": "stdout",
     "output_type": "stream",
     "text": [
      "日照香炉生紫烟$疑是银河落九天$飞流直下三千尺\n"
     ]
    }
   ],
   "source": [
    "# join() 将列表按照指定字符串连接　　返回的是字符串\n",
    "ｌ = ['日照香炉生紫烟','疑是银河落九天','飞流直下三千尺']\n",
    "print('$'.join(l))\n",
    "# str.join(元组、列表、字典、字符串) 之后生成的只能是字符串。\n",
    "# 所以很多地方很多时候生成了元组、列表、字典后，可以用 join() 来转化为字符串。"
   ]
  },
  {
   "cell_type": "code",
   "execution_count": 79,
   "metadata": {},
   "outputs": [
    {
     "name": "stdout",
     "output_type": "stream",
     "text": [
      "4\n",
      "abcd   ---\n",
      "6\n",
      " i love zengzhen\n",
      "8\n",
      "  wo ai ni---\n"
     ]
    }
   ],
   "source": [
    "# ljust()  指定字符串的长度，内容靠左边，不足的位置用指定字符填充，默认空格，返回字符串\n",
    "a = 'abcd'\n",
    "print(len(a))\n",
    "print(a.ljust(7)+'---')\n",
    "\n",
    "# center()  指定字符串长度，内容剧中，不足的位置用指定字符填充，默认空格，返回字符串\n",
    "a = 'i love'\n",
    "print(len(a))\n",
    "print(a.center(8)+'zengzhen')\n",
    "\n",
    "# rjust()  指定字符串的长度，内容靠右边，不足的位置用指定字符填充，默认空格，返回字符串\n",
    "a = 'wo ai ni'\n",
    "print(len(a))\n",
    "print(a.rjust(10)+'---')"
   ]
  },
  {
   "cell_type": "code",
   "execution_count": 90,
   "metadata": {},
   "outputs": [
    {
     "name": "stdout",
     "output_type": "stream",
     "text": [
      "@wo shi da shuai ge@\n",
      "gtrhe\n",
      "abgtrh\n"
     ]
    }
   ],
   "source": [
    "# strip()  去掉左右两边指定字符，默认是去掉空格\n",
    "# lstrip() 去掉左侧指定字符，默认空格\n",
    "# rstrip() 去掉右侧指定字符，默认空格\n",
    "\n",
    "a = '  wo shi da shuai ge  '\n",
    "print('@'+a.strip()+'@')\n",
    "\n",
    "a1 = 'abgtrhe'\n",
    "print(a1.lstrip('ab'))\n",
    "print(a1.rstrip('e'))"
   ]
  },
  {
   "cell_type": "code",
   "execution_count": 93,
   "metadata": {},
   "outputs": [
    {
     "name": "stdout",
     "output_type": "stream",
     "text": [
      "5\n",
      "000shuai\n"
     ]
    }
   ],
   "source": [
    "# zfill()  指定字符串长度，内容靠右，不足的位置用　０　填充\n",
    "a = 'shuai'\n",
    "print(len(a))\n",
    "print(a.zfill(8))"
   ]
  },
  {
   "cell_type": "code",
   "execution_count": 100,
   "metadata": {},
   "outputs": [
    {
     "name": "stdout",
     "output_type": "stream",
     "text": [
      "{29275: 30246, 32905: 32905}\n",
      "曾贞爱吃瘦肉\n"
     ]
    }
   ],
   "source": [
    "# maketrans()  生成用于字符串替换的映射表\n",
    "# translate()  进行字符串替换，替换的字符串与指定的字符串长度相同\n",
    "a = '曾贞爱吃牛肉'\n",
    "print(a.maketrans('牛肉','瘦肉'))\n",
    "print(a.translate(a.maketrans('牛肉','瘦肉')))"
   ]
  },
  {
   "cell_type": "code",
   "execution_count": 101,
   "metadata": {
    "scrolled": true
   },
   "outputs": [
    {
     "name": "stdout",
     "output_type": "stream",
     "text": [
      "{29275: 30246, 32905: 32905}\n",
      "曾贞爱吃瘦肉\n"
     ]
    }
   ],
   "source": [
    "# maketrans()  生成用于字符串替换的映射表\n",
    "# translate()  进行字符串替换，替换的字符串与指定的字符串长度相同\n",
    "a = '曾贞爱吃牛肉'\n",
    "b = a.maketrans('牛肉','瘦肉')\n",
    "print(b)\n",
    "print(a.translate(b))"
   ]
  },
  {
   "cell_type": "code",
   "execution_count": null,
   "metadata": {},
   "outputs": [],
   "source": [
    "# 写一个函数，当输入利润X,能反应发放奖金的总数：\n",
    "# 企业利润１０Ｗ奖金１０％\n",
    "# １０－２０Ｗ高于１０ｗ奖金７．５％\n",
    "# ２０－４０Ｗ高于２０Ｗ奖金５％\n",
    "# ４０－６０Ｗ高于４０Ｗ奖金３％\n",
    "# ６０－１００Ｗ高于６０Ｗ６０Ｗ奖金１．５％，超过１００Ｗ奖金１％\n",
    "# 奖金 = x*107.5%\n"
   ]
  }
 ],
 "metadata": {
  "kernelspec": {
   "display_name": "Python 3",
   "language": "python",
   "name": "python3"
  },
  "language_info": {
   "codemirror_mode": {
    "name": "ipython",
    "version": 3
   },
   "file_extension": ".py",
   "mimetype": "text/x-python",
   "name": "python",
   "nbconvert_exporter": "python",
   "pygments_lexer": "ipython3",
   "version": "3.6.3"
  }
 },
 "nbformat": 4,
 "nbformat_minor": 2
}
