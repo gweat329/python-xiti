{
 "cells": [
  {
   "cell_type": "markdown",
   "metadata": {},
   "source": [
    "# 习题7 \n",
    "## 此习题运用\n",
    "        - 集合、字典、定义函数、if...in.. 判断语句\n",
    "        - 访问 字典 键 的语句：a = b.keys()\n",
    "        - 动态创建字典的语句：b[键] = 值\n",
    "        \n",
    "#### 写一个程序来管理用于登录系统的用户信息：登录名字和密码。\n",
    "#### 登录用户账号建立后，已存在用户可以用登录名字和密码重返系统，\n",
    "#### 新用户不能用别人的用户名建立用户账号\n",
    "        "
   ]
  },
  {
   "cell_type": "code",
   "execution_count": 8,
   "metadata": {},
   "outputs": [
    {
     "name": "stdout",
     "output_type": "stream",
     "text": [
      "账号注册成功\n",
      "{'hahaha': 'mima', 'wawawa': 'shiwoya', 'gweat': '19999'}\n",
      "登录成功\n"
     ]
    }
   ],
   "source": [
    "# 模拟一个用户信息的数据库字典格式的集合\n",
    "use_news = {\"hahaha\":\"mima\",\"wawawa\":\"shiwoya\"}\n",
    "# 定义一个新用户注册的方法函数，并且不能与老用户账号重叠，\n",
    "# 参数为账号：usename ,密码：password\n",
    "# 此函数的意义：新用户注册新账号进数据库集合\n",
    "def register_newuse(usename,password):\n",
    "    # 给新变量usenames赋值数据库里的键值\n",
    "    usenames = use_news.keys()\n",
    "    \n",
    "    #判断新用户输入的账号usename是否为usenames数据库集合键（账号）\n",
    "    if usename in usenames:\n",
    "        print(\"此账号已注册，请重新注册新账号\")\n",
    "    else:\n",
    "        # 此语句意思：增加新注册usename 和 password进数据库集合\n",
    "        # 动态创建字典\n",
    "        use_news[usename] = password\n",
    "        print(\"账号注册成功\")\n",
    "# 定义一个已存在用户登录后进入系统的函数\n",
    "def old_usename(usename,password):\n",
    "    # 给新变量usenames赋值数据库里的键值\n",
    "    usenames = use_news.keys()\n",
    "    # 判断输入的账号usename是否为use_news中的键\n",
    "    if usename not in usenames:\n",
    "        print(\"账号错了\")\n",
    "    # 再次判断输入的密码password是否为use_news中键值对的某一个\n",
    "    elif password != use_news[usename]:\n",
    "        print(\"密码错了\")\n",
    "    # 此为输入的账号密码为数据库集合中键值对的某一个\n",
    "    else:\n",
    "        print(\"登录成功\")\n",
    "\n",
    "register_newuse(\"gweat\",\"19999\")\n",
    "print(use_news)\n",
    "old_usename(\"hahaha\",\"mima\")"
   ]
  },
  {
   "cell_type": "code",
   "execution_count": null,
   "metadata": {
    "collapsed": true
   },
   "outputs": [],
   "source": []
  }
 ],
 "metadata": {
  "kernelspec": {
   "display_name": "Python 3",
   "language": "python",
   "name": "python3"
  },
  "language_info": {
   "codemirror_mode": {
    "name": "ipython",
    "version": 3
   },
   "file_extension": ".py",
   "mimetype": "text/x-python",
   "name": "python",
   "nbconvert_exporter": "python",
   "pygments_lexer": "ipython3",
   "version": "3.6.3"
  }
 },
 "nbformat": 4,
 "nbformat_minor": 2
}
