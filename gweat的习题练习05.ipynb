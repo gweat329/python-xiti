{
 "cells": [
  {
   "cell_type": "markdown",
   "metadata": {},
   "source": [
    "### 定义一个门票系统\n",
    "- 门票的原价是100元\n",
    "- 当周末的时候门票涨价20%\n",
    "- 小孩子半价票\n",
    "- 计算2个成人和一个小孩的平日票价"
   ]
  },
  {
   "cell_type": "code",
   "execution_count": 5,
   "metadata": {},
   "outputs": [
    {
     "name": "stdout",
     "output_type": "stream",
     "text": [
      "2个成人和一个小孩的平日票价是：250.0\n"
     ]
    }
   ],
   "source": [
    "\n",
    "class Ticket(object):\n",
    "    def __init__(self,weekend = False, child = False):\n",
    "        self.exp = 100\n",
    "        if weekend == True:\n",
    "            self.inc = 1.2\n",
    "        else:\n",
    "            self.inc = 1\n",
    "        \n",
    "        if child == True:\n",
    "            self.discount = 0.5\n",
    "        else:\n",
    "            self.discount = 1\n",
    "    \n",
    "    def cal_price(self,num):\n",
    "        return self.exp * self.inc * self.discount * num\n",
    "\n",
    "adult = Ticket()\n",
    "child = Ticket(weekend=False, child=True)\n",
    "print(\"2个成人和一个小孩的平日票价是：{0}\".format(adult.cal_price(2)+child.cal_price(1)))\n",
    "        "
   ]
  },
  {
   "cell_type": "markdown",
   "metadata": {},
   "source": [
    "### 游戏编程：按以下要求定义一个乌龟类和鱼类并尝试编程\n",
    "- 假设游戏场景为范围（x,y）为 0<=x<=10,0<=y<=10\n",
    "- 游戏生成1只乌龟和10条鱼\n",
    "- 他们的移动方向均随机\n",
    "- 乌龟的最大移动能力是2（乌龟可以随机选择移动是1还是2），鱼的最大移动能力是1\n",
    "- 当移动到场景边缘，自动向反方向移动\n",
    "- 乌龟初始化体力为100（上限）\n",
    "- 乌龟每移动一次，体力消耗1\n",
    "- 当乌龟和鱼重叠，乌龟吃掉鱼，乌龟体力增加20\n",
    "- 鱼不计算体力\n",
    "- 当乌龟体力值为0或者鱼的数量为0时，游戏结束"
   ]
  },
  {
   "cell_type": "code",
   "execution_count": 157,
   "metadata": {
    "scrolled": false
   },
   "outputs": [
    {
     "name": "stdout",
     "output_type": "stream",
     "text": [
      "有一条鱼被吃掉了 坐标是: (8, 4)\n",
      "有一条鱼被吃掉了 坐标是: (8, 7)\n",
      "有一条鱼被吃掉了 坐标是: (4, 5)\n",
      "有一条鱼被吃掉了 坐标是: (5, 3)\n",
      "有一条鱼被吃掉了 坐标是: (7, 8)\n",
      "有一条鱼被吃掉了 坐标是: (7, 4)\n",
      "有一条鱼被吃掉了 坐标是: (8, 7)\n",
      "有一条鱼被吃掉了 坐标是: (8, 8)\n",
      "有一条鱼被吃掉了 坐标是: (4, 9)\n",
      "乌龟体力被耗尽，游戏结束\n"
     ]
    }
   ],
   "source": [
    "\n",
    "import random as r\n",
    "\n",
    "class Tortoise(object):\n",
    "    def __init__(self):\n",
    "        # 初始化体力为100\n",
    "        self.power = 100\n",
    "        self.x = r.randint(0,10)\n",
    "        self.y = r.randint(0,10)\n",
    "    \n",
    "    def tor_move(self):\n",
    "        # 乌龟向x方向或者y方向移动的距离\n",
    "        new_x = self.x + r.choice([1,2,-1,-2])\n",
    "        new_y = self.y + r.choice([1,2,-1,-2])\n",
    "        \n",
    "        # 判断乌龟是否移动超出场景边缘，并自动返回\n",
    "        if new_x < 0:\n",
    "            self.x = 0 - (new_x - 0)\n",
    "        elif new_x > 10:\n",
    "            self.x = 10 - (new_x - 10)\n",
    "        else:\n",
    "            self.x = new_x\n",
    "        if new_y < 0:\n",
    "            self.y = 0 - (new_y - 0)\n",
    "        elif new_y > 10:\n",
    "            self.y = 10 - (new_y - 10)\n",
    "        else:\n",
    "            self.y = new_y\n",
    "        self.power -= 1  \n",
    "        return(self.x, self.y)\n",
    "    def eat(self):\n",
    "        self.power += 20\n",
    "        if self.power >= 100:\n",
    "            self.power = 100\n",
    "#tor = Tortoise()\n",
    "#tor.move()\n",
    "\n",
    "class Fish(object):\n",
    "    def __init__(self):\n",
    "        self.x = r.randint(0, 10)\n",
    "        self.y = r.randint(0, 10)\n",
    "        #print(self.x, self.y)\n",
    "        \n",
    "    def fish_move(self):\n",
    "        new_x = self.x + r.choice([1, -1])\n",
    "        new_y = self.y + r.choice([1, -1])\n",
    "        \n",
    "        if new_x < 0:\n",
    "            self.x = 0 - (new_x - 0)\n",
    "        elif new_x > 10:\n",
    "            self.x = 10 - (new_x - 10)\n",
    "        else:\n",
    "            self.x = new_x\n",
    "        if new_y < 0:\n",
    "            self.y = 0 - (new_y - 0)\n",
    "        elif new_y > 10:\n",
    "            self.y = 10 - (new_y - 10)\n",
    "        else:\n",
    "            self.y = new_y\n",
    "            \n",
    "        return (self.x, self.y)\n",
    "\n",
    "tor = Tortoise()\n",
    "fish = []\n",
    "for i in range(10):\n",
    "    new_fish = Fish()\n",
    "    fish.append(new_fish)\n",
    "\n",
    "#游戏开始运行\n",
    "while True:\n",
    "    if not len(fish):\n",
    "        print(\"鱼被吃完了，游戏结束\")\n",
    "        break\n",
    "    if not tor.power:\n",
    "        print(\"乌龟体力被耗尽，游戏结束\")\n",
    "        break\n",
    "    \n",
    "    pos = tor.tor_move()\n",
    "    #print(\"乌龟移动到：\",pos)\n",
    "    #print(id(pos))\n",
    "    \n",
    "    for each_fish in fish[:]:\n",
    "        ef = each_fish.fish_move()\n",
    "        if ef == pos:\n",
    "            tor.eat()\n",
    "            fish.remove(each_fish)\n",
    "            print(\"有一条鱼被吃掉了\",\"坐标是:\",ef)\n",
    "        else:\n",
    "            #print(\"鱼移动：\",ef)\n",
    "            pass\n",
    "        #print(id(each_fish))\n",
    "\n",
    "\n",
    "        \n",
    "            \n",
    "\n",
    "        \n",
    "            \n",
    "        "
   ]
  },
  {
   "cell_type": "markdown",
   "metadata": {},
   "source": [
    "### 定义一个点（point）和直线（Line），使用getLen方法获取两点构成直线的长度"
   ]
  },
  {
   "cell_type": "code",
   "execution_count": 3,
   "metadata": {},
   "outputs": [
    {
     "data": {
      "text/plain": [
       "3.1622776601683795"
      ]
     },
     "execution_count": 3,
     "metadata": {},
     "output_type": "execute_result"
    }
   ],
   "source": [
    "import math\n",
    "\n",
    "class Piont(object):\n",
    "    def __init__(self, x = 0, y = 0):\n",
    "        self.x = x\n",
    "        self.y = y\n",
    "    def get_x(self):\n",
    "        return self.x\n",
    "    def get_y(self):\n",
    "        return self.y\n",
    "p1 = Piont(4,5)\n",
    "p2 = Piont(7,4)\n",
    "class Line(object):\n",
    "    def __init__(self, p1, p2):\n",
    "        self.x = p1.get_x() - p2.get_x()\n",
    "        self.y = p1.get_y() - p2.get_y()\n",
    "        self.line_len = math.sqrt((self.x)**2 + (self.y)**2)\n",
    "    def get_len(self):\n",
    "        return self.line_len\n",
    "line = Line(p1,p2)\n",
    "line.get_len()\n",
    "    "
   ]
  },
  {
   "cell_type": "markdown",
   "metadata": {
    "collapsed": true
   },
   "source": [
    "### 编写一个计算减法的方法，当第一个数小于第二个数时，抛出“被减数不能小于减数”的异常"
   ]
  },
  {
   "cell_type": "code",
   "execution_count": 13,
   "metadata": {},
   "outputs": [
    {
     "name": "stdout",
     "output_type": "stream",
     "text": [
      "发现异常：被减数不能小于减数\n"
     ]
    }
   ],
   "source": [
    "def num(n1,n2):\n",
    "    if n1 < n2:\n",
    "        raise Exception(\"被减数不能小于减数\")\n",
    "    else:\n",
    "        return n1 - n2\n",
    "try:\n",
    "    num(1,2)\n",
    "except Exception as e:\n",
    "    print(\"发现异常：{0}\".format(e))\n",
    "    \n",
    "    \n",
    "        \n",
    "  \n",
    "    \n",
    "    "
   ]
  },
  {
   "cell_type": "markdown",
   "metadata": {},
   "source": [
    "### 定义一个函数func(filename)filename:文件的路径，函数功能：打开文件，并且返回文件内容，最后关闭，用异常处理可能发生的错误"
   ]
  },
  {
   "cell_type": "code",
   "execution_count": 8,
   "metadata": {},
   "outputs": [
    {
     "name": "stdout",
     "output_type": "stream",
     "text": [
      "好的,你很棒\n"
     ]
    }
   ],
   "source": [
    "import os\n",
    "def func(filename):\n",
    "    try:\n",
    "        file = open(filename)\n",
    "    except Exception as e:\n",
    "        print(\"出错了，出错的内容是：{0}\".format(e))\n",
    "    else:    \n",
    "        print(file.read())\n",
    "        file.close()\n",
    "func('haha.haha')\n",
    "    "
   ]
  },
  {
   "cell_type": "markdown",
   "metadata": {},
   "source": [
    "### 自己定义一个异常类，继承Exception类，捕获下面的过程：判断输入的字符串长度是否小于5"
   ]
  },
  {
   "cell_type": "code",
   "execution_count": 17,
   "metadata": {},
   "outputs": [
    {
     "name": "stdout",
     "output_type": "stream",
     "text": [
      "fsddd\n"
     ]
    }
   ],
   "source": [
    "class MyException(Exception):\n",
    "    def __init__(self,stri):\n",
    "        self.stri = stri\n",
    "    def judge(self):\n",
    "        if len(self.stri) < 5:\n",
    "            print(\"你输入的字符串长度小于5\")\n",
    "        else:\n",
    "            print(self.stri)\n",
    "try:\n",
    "    er = MyException(\"fsddd\")\n",
    "    er.judge()\n",
    "except MyException as m:\n",
    "    print(\"出现错误了，{0}\".format(m))\n",
    "    "
   ]
  },
  {
   "cell_type": "code",
   "execution_count": null,
   "metadata": {
    "collapsed": true
   },
   "outputs": [],
   "source": []
  }
 ],
 "metadata": {
  "kernelspec": {
   "display_name": "Python 3",
   "language": "python",
   "name": "python3"
  },
  "language_info": {
   "codemirror_mode": {
    "name": "ipython",
    "version": 3
   },
   "file_extension": ".py",
   "mimetype": "text/x-python",
   "name": "python",
   "nbconvert_exporter": "python",
   "pygments_lexer": "ipython3",
   "version": "3.6.3"
  }
 },
 "nbformat": 4,
 "nbformat_minor": 2
}
