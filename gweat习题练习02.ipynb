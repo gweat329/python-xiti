{
 "cells": [
  {
   "cell_type": "code",
   "execution_count": 26,
   "metadata": {},
   "outputs": [
    {
     "name": "stdout",
     "output_type": "stream",
     "text": [
      "请输入1到100的整数：100\n"
     ]
    },
    {
     "ename": "TypeError",
     "evalue": "int() takes 0 positional arguments but 1 was given",
     "output_type": "error",
     "traceback": [
      "\u001b[0;31m---------------------------------------------------------------------------\u001b[0m",
      "\u001b[0;31mTypeError\u001b[0m                                 Traceback (most recent call last)",
      "\u001b[0;32m<ipython-input-26-6da13c00c720>\u001b[0m in \u001b[0;36m<module>\u001b[0;34m()\u001b[0m\n\u001b[1;32m      2\u001b[0m \u001b[0mtemp\u001b[0m \u001b[0;34m=\u001b[0m \u001b[0minput\u001b[0m\u001b[0;34m(\u001b[0m\u001b[0;34m\"请输入1到100的整数：\"\u001b[0m\u001b[0;34m)\u001b[0m\u001b[0;34m\u001b[0m\u001b[0m\n\u001b[1;32m      3\u001b[0m \u001b[0;32mif\u001b[0m \u001b[0mtemp\u001b[0m\u001b[0;34m.\u001b[0m\u001b[0misdigit\u001b[0m\u001b[0;34m(\u001b[0m\u001b[0;34m)\u001b[0m\u001b[0;34m:\u001b[0m\u001b[0;34m\u001b[0m\u001b[0m\n\u001b[0;32m----> 4\u001b[0;31m     \u001b[0mtemp\u001b[0m \u001b[0;34m==\u001b[0m \u001b[0mint\u001b[0m\u001b[0;34m(\u001b[0m\u001b[0mtemp\u001b[0m\u001b[0;34m)\u001b[0m\u001b[0;34m\u001b[0m\u001b[0m\n\u001b[0m\u001b[1;32m      5\u001b[0m     \u001b[0;32mif\u001b[0m \u001b[0;36m1\u001b[0m \u001b[0;34m<=\u001b[0m \u001b[0mtemp\u001b[0m \u001b[0;34m<=\u001b[0m \u001b[0;36m100\u001b[0m\u001b[0;34m:\u001b[0m\u001b[0;34m\u001b[0m\u001b[0m\n\u001b[1;32m      6\u001b[0m         \u001b[0mprint\u001b[0m\u001b[0;34m(\u001b[0m\u001b[0;34m\"你好看\"\u001b[0m\u001b[0;34m)\u001b[0m\u001b[0;34m\u001b[0m\u001b[0m\n",
      "\u001b[0;31mTypeError\u001b[0m: int() takes 0 positional arguments but 1 was given"
     ]
    }
   ],
   "source": [
    "# 编写程序，要求用户输入1-100之间的整数并且判断，输入符合要求的打印“你好看”，否则打印“你丑八怪，天黑别把灯打开”\n",
    "temp = input(\"请输入1到100的整数：\")\n",
    "if temp.isdigit():\n",
    "    temp = int(temp)\n",
    "    if 1 <= temp <= 100:\n",
    "        print(\"你好看\")\n",
    "    else:\n",
    "        print(\"你丑八怪，天黑别把灯打开\")\n",
    "    \n",
    "else:\n",
    "    print(\"你丑八怪，天黑别把灯打开\")"
   ]
  },
  {
   "cell_type": "code",
   "execution_count": 14,
   "metadata": {
    "scrolled": true
   },
   "outputs": [
    {
     "name": "stdout",
     "output_type": "stream",
     "text": [
      "Help on method_descriptor:\n",
      "\n",
      "isdigit(...)\n",
      "    S.isdigit() -> bool\n",
      "    \n",
      "    Return True if all characters in S are digits\n",
      "    and there is at least one character in S, False otherwise.\n",
      "\n"
     ]
    }
   ],
   "source": [
    "help(str.isdigit)"
   ]
  },
  {
   "cell_type": "code",
   "execution_count": 23,
   "metadata": {
    "scrolled": true
   },
   "outputs": [
    {
     "ename": "SyntaxError",
     "evalue": "invalid syntax (<ipython-input-23-15a02ce4091d>, line 2)",
     "output_type": "error",
     "traceback": [
      "\u001b[0;36m  File \u001b[0;32m\"<ipython-input-23-15a02ce4091d>\"\u001b[0;36m, line \u001b[0;32m2\u001b[0m\n\u001b[0;31m    temp.isdigit():\u001b[0m\n\u001b[0m                   ^\u001b[0m\n\u001b[0;31mSyntaxError\u001b[0m\u001b[0;31m:\u001b[0m invalid syntax\n"
     ]
    }
   ],
   "source": [
    "temp = input(\"请输入\")\n",
    "temp.isdigit():"
   ]
  },
  {
   "cell_type": "code",
   "execution_count": 2,
   "metadata": {},
   "outputs": [
    {
     "name": "stdout",
     "output_type": "stream",
     "text": [
      "3\n"
     ]
    }
   ],
   "source": [
    "# 使用int()将小数转换成整数，结果是想上取整还是向下取整\n",
    "print(int(3.4))\n",
    "#结果是向下取整为 3 "
   ]
  },
  {
   "cell_type": "code",
   "execution_count": 7,
   "metadata": {},
   "outputs": [
    {
     "name": "stdout",
     "output_type": "stream",
     "text": [
      "输入年份：1900\n",
      "1900年不是闰年。\n"
     ]
    }
   ],
   "source": [
    "#写一个程序，判断给定年份是否为闰年\n",
    "# 1. 年数能被4整除的为闰年，但不能被100整除的年份\n",
    "# 2. 年数是整百的能被400整除的为闰年\n",
    "def year():\n",
    "    n = input(\"输入年份：\")\n",
    "    n = int(n)\n",
    "    if n %4 == 0 and n %100 != 0:\n",
    "        print(\"{0}年是闰年。\".format(n))\n",
    "    elif n %400 == 0:\n",
    "        print(\"{0}年是闰年。\".format(n))\n",
    "    else:\n",
    "        print(\"{0}年不是闰年。\".format(n))\n",
    "year()"
   ]
  },
  {
   "cell_type": "code",
   "execution_count": 20,
   "metadata": {},
   "outputs": [
    {
     "name": "stdout",
     "output_type": "stream",
     "text": [
      "我们来玩一个小游戏，我在纸上写出一个数字，你来猜看是什么数字,你一共有三次机会，\n",
      "我在纸上写了一个数字：1\n",
      "给你第一次机会，说出你猜的数字：1\n",
      "不错啊，第一次就猜对了，你很NB啊！\n"
     ]
    }
   ],
   "source": [
    "#### 给用户三次机会，猜想我们程序生成的一个数字A，每次用户猜想过后会提示数字是否正确以及用户输入数字是大于还是小于A，当机会用尽后提示用户已经输掉了游戏\n",
    "# 1.给用户三次机会\n",
    "# 2.我们生成一个数字A\n",
    "# 3.用户猜想一次提示数字是否正确，并且用户输入数字是大于A，还是小于A\n",
    "# 4.用户三次机会用完后没有才对数字，输掉游戏\n",
    "print(\"我们来玩一个小游戏，我在纸上写出一个数字，你来猜看是什么数字,你一共有三次机会，\")\n",
    "num = input(\"我在纸上写了一个数字：\")\n",
    "num = int(num)\n",
    "for chanc in range(3):    \n",
    "    if chanc == 0:\n",
    "        user = input(\"给你第一次机会，说出你猜的数字：\")\n",
    "        user = int(user)\n",
    "        if user == num:\n",
    "            print(\"不错啊，第一次就猜对了，你很NB啊！\")\n",
    "            break\n",
    "        elif user > num:\n",
    "            print(\"嘿嘿，你猜大了！\")\n",
    "        else:\n",
    "            print(\"嘿嘿，你猜小了！\")\n",
    "    elif chanc == 1:\n",
    "            user = input(\"给你第二次机会，说出你猜的数字：\")\n",
    "            user = int(user)\n",
    "            if user == num:\n",
    "                print(\"嗯，第二次就猜对了，还行！\")\n",
    "                break\n",
    "            elif user > num:\n",
    "                print(\"嘿嘿，你猜大了！\")\n",
    "            else:\n",
    "                print(\"嘿嘿，你猜小了！\")         \n",
    "    elif chanc == 2:\n",
    "            user = input(\"给你第三次机会，说出你猜的数字：\")\n",
    "            user = int(user) \n",
    "            if user == num:\n",
    "                print(\"差一点，你就输掉这个游戏了，嗯，你猜对了。\")\n",
    "                break\n",
    "            elif user > num:\n",
    "                print(\"嘿嘿，你猜大了！很可惜，你的三次机会没有了，滚蛋吧!\")\n",
    "                print(\"哎，你不适合这个游戏！\")\n",
    "            else:\n",
    "                print(\"嘿嘿，你猜小了！很可惜，你的三次机会没有了，滚蛋吧!\")\n",
    "                print(\"哎，你不适合这个游戏！\")\n"
   ]
  },
  {
   "cell_type": "code",
   "execution_count": 3,
   "metadata": {
    "scrolled": true
   },
   "outputs": [
    {
     "name": "stdout",
     "output_type": "stream",
     "text": [
      "1 我是奇数\n",
      "3 我是奇数\n",
      "5 我是奇数\n",
      "7 我是奇数\n",
      "9 我是奇数\n",
      "11 我是奇数\n",
      "13 我是奇数\n",
      "15 我是奇数\n",
      "17 我是奇数\n",
      "19 我是奇数\n",
      "21 我是奇数\n",
      "23 我是奇数\n",
      "25 我是奇数\n",
      "27 我是奇数\n",
      "29 我是奇数\n",
      "31 我是奇数\n",
      "33 我是奇数\n",
      "35 我是奇数\n",
      "37 我是奇数\n",
      "39 我是奇数\n",
      "41 我是奇数\n",
      "43 我是奇数\n",
      "45 我是奇数\n",
      "47 我是奇数\n",
      "49 我是奇数\n",
      "51 我是奇数\n",
      "53 我是奇数\n",
      "55 我是奇数\n",
      "57 我是奇数\n",
      "59 我是奇数\n",
      "61 我是奇数\n",
      "63 我是奇数\n",
      "65 我是奇数\n",
      "67 我是奇数\n",
      "69 我是奇数\n",
      "71 我是奇数\n",
      "73 我是奇数\n",
      "75 我是奇数\n",
      "77 我是奇数\n",
      "79 我是奇数\n",
      "81 我是奇数\n",
      "83 我是奇数\n",
      "85 我是奇数\n",
      "87 我是奇数\n",
      "89 我是奇数\n",
      "91 我是奇数\n",
      "93 我是奇数\n",
      "95 我是奇数\n",
      "97 我是奇数\n",
      "99 我是奇数\n"
     ]
    }
   ],
   "source": [
    "# 写一个程序，打印出0-100的奇数\n",
    "# num % 2 == 0,是偶数\n",
    "for num in range(0,100):\n",
    "    if num % 2 == 0:\n",
    "        continue\n",
    "    else:\n",
    "        print(num,\"我是奇数\")"
   ]
  },
  {
   "cell_type": "code",
   "execution_count": 15,
   "metadata": {},
   "outputs": [
    {
     "name": "stdout",
     "output_type": "stream",
     "text": [
      "119\n",
      "329\n",
      "539\n",
      "749\n",
      "959\n",
      "循环结束\n"
     ]
    }
   ],
   "source": [
    "# 爱因斯坦曾出过这样一道有趣的数学题：有一个长阶梯，若每步上2阶，最后剩余1阶；如果每步上3阶，最后剩2阶；若每步上5阶，最后剩4阶；若每步上6阶，最后剩5阶，只有每步上7阶，最后刚好一阶不剩。\n",
    "# 1. 一个长阶梯\n",
    "# 2. 判断 1.每步上2阶，最后剩余1阶；\n",
    "#        2.每步上3阶，最后剩余2阶；\n",
    "#        3.每步上5阶，最后剩余4阶；\n",
    "#        4.每步上6阶，最后剩余5阶；\n",
    "#        5.只有每步上7阶，最后刚好一阶不剩；\n",
    "# 3.求该阶梯至少有多少阶。\n",
    "'''\n",
    "ladder %2 == 1\n",
    "ladder %3 == 2\n",
    "ladder %5 == 4\n",
    "ladder %6 == 5\n",
    "ladder %7 == 0\n",
    "\n",
    "2a+1=7e\n",
    "3b+2=7e\n",
    "5c+4=7e\n",
    "6d+5=7e \n",
    "7e+0=y\n",
    "'''\n",
    "n = 0\n",
    "while n < 1000:\n",
    "    #  ‘ \\ ‘反斜线可以让长语句分段\n",
    "    if (n %7 == 0) and (n %5 == 4) and (n %3 == 2) and (n %2 == 1):\n",
    "        print(n)\n",
    "        n += 1\n",
    "        #break\n",
    "    else:\n",
    "        n += 1\n",
    "print(\"循环结束\")\n",
    "        \n"
   ]
  },
  {
   "cell_type": "code",
   "execution_count": null,
   "metadata": {
    "collapsed": true
   },
   "outputs": [],
   "source": [
    "# 这行代码是什么意思\n",
    "if not (money < 100)\n",
    "money >= 100 # if not 的意思"
   ]
  },
  {
   "cell_type": "code",
   "execution_count": 17,
   "metadata": {},
   "outputs": [
    {
     "name": "stdout",
     "output_type": "stream",
     "text": [
      "3 1 2\n"
     ]
    }
   ],
   "source": [
    "# 假设有x=1,y=2,z=3,如何快速将三个变量的值相互交换？\n",
    "x = 1\n",
    "y = 2\n",
    "z = 3\n",
    "x,y,z = z,x,y # 这种赋值表达式可以快速将三个变量的值相互交换\n",
    "print(x,y,z)\n"
   ]
  },
  {
   "cell_type": "code",
   "execution_count": 19,
   "metadata": {},
   "outputs": [
    {
     "name": "stdout",
     "output_type": "stream",
     "text": [
      "False\n"
     ]
    }
   ],
   "source": [
    "# 成员资格运算符“in\"的用法\n",
    "ls = range(100)\n",
    "if 100 in ls:\n",
    "    print(True)\n",
    "else:\n",
    "    print(False)"
   ]
  },
  {
   "cell_type": "code",
   "execution_count": 21,
   "metadata": {},
   "outputs": [
    {
     "name": "stdout",
     "output_type": "stream",
     "text": [
      "0\n",
      "2\n",
      "4\n",
      "6\n",
      "8\n"
     ]
    }
   ],
   "source": [
    "# range()函数\n",
    "ls = range(0,10,2)\n",
    "for i in ls:\n",
    "    print(i)"
   ]
  },
  {
   "cell_type": "code",
   "execution_count": 23,
   "metadata": {},
   "outputs": [
    {
     "name": "stdout",
     "output_type": "stream",
     "text": [
      "Tuling\n",
      "Tuling\n",
      "Tuling\n",
      "Tuling\n",
      "Tuling\n"
     ]
    }
   ],
   "source": [
    "# 下面的循环会打印多少次”Tuling“\n",
    "# for i in range(0,10,2):\n",
    "#  print(\"Tuling\")\n",
    "for i in range(0,10,2):\n",
    "    print(\"Tuling\")"
   ]
  },
  {
   "cell_type": "code",
   "execution_count": 25,
   "metadata": {},
   "outputs": [
    {
     "name": "stdout",
     "output_type": "stream",
     "text": [
      "2\n",
      "3\n"
     ]
    }
   ],
   "source": [
    "# 目测一下程序会打印什么\n",
    "\n",
    "while True:\n",
    "    while True:\n",
    "        break\n",
    "        print(1)\n",
    "    print(2)\n",
    "    break\n",
    "print(3)\n"
   ]
  },
  {
   "cell_type": "code",
   "execution_count": 3,
   "metadata": {},
   "outputs": [
    {
     "name": "stdout",
     "output_type": "stream",
     "text": [
      "0\n",
      "1\n",
      "2\n",
      "3\n",
      "4\n",
      "5\n",
      "6\n",
      "7\n",
      "8\n",
      "9\n",
      "10\n"
     ]
    }
   ],
   "source": [
    "# 从代码效率的方面考虑，以下代码有什么问题，如何改进？\n",
    "i = 0\n",
    "string = \"ILoveTuling\"\n",
    "ls = len(string)\n",
    "while i < ls: # 不要在while中执行一些函数和方法\n",
    "    print(i)\n",
    "    i += 1"
   ]
  },
  {
   "cell_type": "code",
   "execution_count": 1,
   "metadata": {},
   "outputs": [
    {
     "name": "stdout",
     "output_type": "stream",
     "text": [
      "1\n",
      "end\n"
     ]
    }
   ],
   "source": [
    "n1 = True\n",
    "while n1:\n",
    "    print(\"1\")\n",
    "    n1 = False\n",
    "print(\"end\")"
   ]
  },
  {
   "cell_type": "code",
   "execution_count": 4,
   "metadata": {},
   "outputs": [
    {
     "name": "stdout",
     "output_type": "stream",
     "text": [
      "请用户设定一个密码：123qqq\n",
      "请输入验证密码：21*\n",
      "您输入的密码有星号\n",
      "请输入验证密码：dfghr*\n",
      "您输入的密码有星号\n",
      "请输入验证密码：hg4**\n",
      "您输入的密码有星号\n",
      "请输入验证密码：hr***\n",
      "您输入的密码有星号\n",
      "请输入验证密码：123qqq\n",
      "正确了\n"
     ]
    }
   ],
   "source": [
    "# 设计一个验证用户密码的程序，用户只有三次机会输入错误，不过如果用输入的内容包括”*“则不计算在内\n",
    "\n",
    "new_pw = input(\"请用户设定一个密码：\")\n",
    "times = 3\n",
    "a = True\n",
    "while times:\n",
    "    user_pw = input(\"请输入验证密码：\")\n",
    "    if \"*\" in user_pw:\n",
    "                print(\"您输入的密码有星号\")\n",
    "                a = True\n",
    "    elif user_pw == new_pw:\n",
    "        print(\"正确了\")\n",
    "        break\n",
    "    else:\n",
    "        print(\"错了\")\n",
    "        times -= 1"
   ]
  },
  {
   "cell_type": "code",
   "execution_count": 2,
   "metadata": {},
   "outputs": [
    {
     "data": {
      "text/plain": [
       "'\\nwhile 100 < func < 999:\\n    for \\n    c += 1\\n        b += 1\\n    elif b == 9:\\n        a += 1\\n        \\n    print(\"{0}的水仙花数 {1}\".format(func,1))\\n    func += 1\\n'"
      ]
     },
     "execution_count": 2,
     "metadata": {},
     "output_type": "execute_result"
    }
   ],
   "source": [
    "### 编写一个程序，求100-999之间的所有水仙花数\n",
    "# 水仙花数：如果一个3位数等于其个位数字的立方和，则称这个数为水仙花数，例如153 = 1^3+5^3+3^3\n",
    "\n",
    "'''\n",
    "while 100 < func < 999:\n",
    "    for \n",
    "    c += 1\n",
    "        b += 1\n",
    "    elif b == 9:\n",
    "        a += 1\n",
    "        \n",
    "    print(\"{0}的水仙花数 {1}\".format(func,1))\n",
    "    func += 1\n",
    "''' \n"
   ]
  },
  {
   "cell_type": "code",
   "execution_count": 3,
   "metadata": {},
   "outputs": [
    {
     "name": "stdout",
     "output_type": "stream",
     "text": [
      "<class 'range'>\n"
     ]
    }
   ],
   "source": [
    "i = range(10)\n",
    "print(type(i))"
   ]
  },
  {
   "cell_type": "code",
   "execution_count": null,
   "metadata": {
    "collapsed": true
   },
   "outputs": [],
   "source": [
    "### 三色球问题\n",
    "# 有红，黄，蓝三种颜色的球，其中红球3个，黄球3个，蓝球6个，先将这12个混合放入一个盒子中，从中任意摸出8个球，编程计算摸出求的各种颜色搭配"
   ]
  }
 ],
 "metadata": {
  "kernelspec": {
   "display_name": "Python 3",
   "language": "python",
   "name": "python3"
  }
 },
 "nbformat": 4,
 "nbformat_minor": 2
}
